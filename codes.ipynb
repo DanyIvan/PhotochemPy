{
 "cells": [
  {
   "cell_type": "code",
   "execution_count": 1,
   "metadata": {},
   "outputs": [],
   "source": [
    "import PhotochemPy as photo\n",
    "pt = photo.PhotochemPy('input/species.dat','input/reactions.rx')"
   ]
  },
  {
   "cell_type": "code",
   "execution_count": null,
   "metadata": {},
   "outputs": [],
   "source": []
  },
  {
   "cell_type": "code",
   "execution_count": 1,
   "metadata": {},
   "outputs": [],
   "source": [
    "import numpy as np\n",
    "from Photochem import photochem\n",
    "import time"
   ]
  },
  {
   "cell_type": "code",
   "execution_count": null,
   "metadata": {},
   "outputs": [],
   "source": []
  },
  {
   "cell_type": "code",
   "execution_count": 2,
   "metadata": {},
   "outputs": [],
   "source": [
    "nz = 200\n",
    "nq = 63\n",
    "nnp = 4\n",
    "nsp = 74\n",
    "nr = 392\n",
    "ks = 33\n",
    "kj = 60\n",
    "photochem.allocate_memory(nz,nq,nnp,nsp,nr,ks,kj)\n",
    "# now read input files\n",
    "photochem.read_species('input/species.dat')\n",
    "photochem.read_reactions('input/reactions.rx')\n",
    "photochem.read_atmosphere('input/atmosphere.txt')\n",
    "photochem.photgrid(100.0e5)\n",
    "\n",
    "# these should be done in initphoto!\n",
    "photochem.initphoto('input/sun_flux.txt')\n",
    "photochem.initmie(photochem.nw,photochem.wavl,1,0)"
   ]
  },
  {
   "cell_type": "code",
   "execution_count": 3,
   "metadata": {
    "scrolled": true
   },
   "outputs": [
    {
     "name": "stdout",
     "output_type": "stream",
     "text": [
      "initmie(nw,wl,frak,ihztype,[kw])\n",
      "\n",
      "Wrapper for ``initmie``.\n",
      "\n",
      "Parameters\n",
      "----------\n",
      "nw : input int\n",
      "wl : input rank-1 array('d') with bounds (kw)\n",
      "frak : input int\n",
      "ihztype : input int\n",
      "\n",
      "Other Parameters\n",
      "----------------\n",
      "kw : input int, optional\n",
      "    Default: len(wl)\n",
      "\n"
     ]
    }
   ],
   "source": [
    "print(photochem.initmie.__doc__)"
   ]
  },
  {
   "cell_type": "code",
   "execution_count": 11,
   "metadata": {},
   "outputs": [],
   "source": []
  },
  {
   "cell_type": "code",
   "execution_count": 12,
   "metadata": {},
   "outputs": [
    {
     "data": {
      "text/plain": [
       "array([[4.89680743e-04, 1.95732189e-03, 4.39918700e-03, ...,\n",
       "        9.04034137e-01, 9.05876094e-01, 9.13419334e-01],\n",
       "       [4.68250000e-04, 1.87165000e-03, 4.20695000e-03, ...,\n",
       "        9.63695400e-01, 9.65284100e-01, 9.75043900e-01],\n",
       "       [4.35900000e-04, 1.74240000e-03, 3.91655000e-03, ...,\n",
       "        9.61213500e-01, 9.62592950e-01, 9.73331600e-01],\n",
       "       ...,\n",
       "       [1.02500000e-05, 4.09500000e-05, 9.21000000e-05, ...,\n",
       "        9.12063050e-01, 9.13834450e-01, 9.43224500e-01],\n",
       "       [1.02500000e-05, 4.09000000e-05, 9.20000000e-05, ...,\n",
       "        9.11727450e-01, 9.13510350e-01, 9.43226750e-01],\n",
       "       [4.35174989e-08, 1.73224996e-07, 3.89967490e-07, ...,\n",
       "        3.85126950e-03, 3.85882760e-03, 3.98513524e-03]])"
      ]
     },
     "execution_count": 12,
     "metadata": {},
     "output_type": "execute_result"
    }
   ],
   "source": [
    "photochem.ghc[:118]"
   ]
  },
  {
   "cell_type": "code",
   "execution_count": null,
   "metadata": {},
   "outputs": [],
   "source": []
  },
  {
   "cell_type": "code",
   "execution_count": null,
   "metadata": {},
   "outputs": [],
   "source": []
  },
  {
   "cell_type": "code",
   "execution_count": 19,
   "metadata": {},
   "outputs": [
    {
     "data": {
      "image/png": "[encoded data removed]",
      "text/plain": [
       "<Figure size 432x288 with 1 Axes>"
      ]
     },
     "metadata": {
      "needs_background": "light"
     },
     "output_type": "display_data"
    }
   ],
   "source": [
    "from matplotlib import pyplot as plt\n",
    "fig,ax = plt.subplots(1,1)\n",
    "\n",
    "ax.plot(photochem.wav[0:118]/10,photochem.sq[6,0,:118],'o')\n",
    "\n",
    "ax.set_xlim(198,210)\n",
    "ax.set_ylim(1e-27,1e-23)\n",
    "\n",
    "ax.set_yscale('log')"
   ]
  },
  {
   "cell_type": "code",
   "execution_count": 17,
   "metadata": {},
   "outputs": [
    {
     "data": {
      "text/plain": [
       "array([1210., 1300., 1350., 1400., 1450., 1500., 1550., 1600., 1650.,\n",
       "       1700., 1754., 1770., 1786., 1802., 1818., 1835., 1852., 1869.,\n",
       "       1887., 1905., 1923., 1942., 1961., 1980., 2000., 2020., 2041.,\n",
       "       2062., 2083., 2105., 2128., 2151., 2174., 2200., 2222., 2247.,\n",
       "       2273., 2299., 2326., 2353., 2381., 2410., 2439., 2469., 2500.,\n",
       "       2532., 2564., 2597., 2632., 2667., 2703., 2740., 2778., 2817.,\n",
       "       2857., 2899., 2941., 2985., 3030., 3077., 3125., 3175., 3225.,\n",
       "       3275., 3325., 3375., 3425., 3450., 3550., 3650., 3750., 3850.,\n",
       "       3950., 4050., 4150., 4250., 4350., 4450., 4550., 4650., 4750.,\n",
       "       4850., 4950., 5050., 5150., 5250., 5350., 5450., 5550., 5650.,\n",
       "       5750., 5850., 5950., 6050., 6150., 6250., 6350., 6450., 6550.,\n",
       "       6650., 6750., 6850., 6950., 7050., 7150., 7250., 7350., 7450.,\n",
       "       7550., 7650., 7750., 7850., 7950., 8050., 8150., 8250., 8350.,\n",
       "       8450.])"
      ]
     },
     "execution_count": 17,
     "metadata": {},
     "output_type": "execute_result"
    }
   ],
   "source": [
    "photochem.wavl[0:118]"
   ]
  },
  {
   "cell_type": "code",
   "execution_count": null,
   "metadata": {},
   "outputs": [],
   "source": []
  },
  {
   "cell_type": "code",
   "execution_count": null,
   "metadata": {},
   "outputs": [],
   "source": []
  },
  {
   "cell_type": "code",
   "execution_count": 5,
   "metadata": {},
   "outputs": [],
   "source": [
    "lower_wv = 121 # lower bound of consideration (nm)\n",
    "upper_wv = 800 # upper bound\n",
    "\n",
    "def photgrid(star_file):\n",
    "    wv,I = np.loadtxt(star_file).T\n",
    "    bins = np.linspace(lower_wv,upper_wv,nw+1)\n",
    "    # calculate photons/cm2/s for each bin\n",
    "    F = np.zeros(nw)\n",
    "    for j in range(len(bins)-1):\n",
    "        ind = np.where((wv>bins[j]) & (wv<bins[j+1]))[0]\n",
    "        c = 3e8 #m/s2\n",
    "        h = 6.62607004e-34 #Planks constant in SI units\n",
    "        FF = 0\n",
    "        for i in ind:\n",
    "            E = h*c/(wv[i]*1e-9) # joules/photon\n",
    "            FF += I[i]*(wv[i+1]-wv[i])/1e7/E #photons/(cm2 s)\n",
    "        F[j] = FF\n",
    "    return F"
   ]
  },
  {
   "cell_type": "code",
   "execution_count": 6,
   "metadata": {},
   "outputs": [],
   "source": [
    "Flux = photgrid('input/sun_flux.txt')"
   ]
  },
  {
   "cell_type": "code",
   "execution_count": 7,
   "metadata": {},
   "outputs": [],
   "source": [
    "photochem.flux = Flux"
   ]
  },
  {
   "cell_type": "code",
   "execution_count": null,
   "metadata": {},
   "outputs": [],
   "source": []
  },
  {
   "cell_type": "code",
   "execution_count": null,
   "metadata": {},
   "outputs": [],
   "source": []
  },
  {
   "cell_type": "code",
   "execution_count": 13,
   "metadata": {},
   "outputs": [],
   "source": [
    "def profile2dic(filename):\n",
    "    file = open(filename,'r')\n",
    "    lines = file.readlines()\n",
    "    key = lines[0].split()\n",
    "    #build dictionary of output\n",
    "    out = []\n",
    "    for i in range(1,len(lines)):\n",
    "        tmp = []\n",
    "        for j in lines[i].split():\n",
    "            try:\n",
    "                tmp.append(float(j))\n",
    "            except ValueError:\n",
    "                tmp.append(0)\n",
    "        out.append(tmp)\n",
    "    out = np.array(out)\n",
    "\n",
    "    f_out = {}\n",
    "    for i in range(0,len(key)):\n",
    "        f_out[key[i]]=out[:,i]\n",
    "    file.close()\n",
    "\n",
    "    return f_out"
   ]
  },
  {
   "cell_type": "code",
   "execution_count": 14,
   "metadata": {},
   "outputs": [],
   "source": [
    "# loads atmosphere\n",
    "f = profile2dic('atmosphere.txt')\n",
    "usol = np.zeros([63,200])\n",
    "k= 0\n",
    "for i,key in enumerate(f.keys()):\n",
    "    if i>3:\n",
    "        usol[k] = f[key]\n",
    "        k+=1"
   ]
  },
  {
   "cell_type": "code",
   "execution_count": 15,
   "metadata": {},
   "outputs": [],
   "source": []
  },
  {
   "cell_type": "code",
   "execution_count": 16,
   "metadata": {},
   "outputs": [
    {
     "data": {
      "text/plain": [
       "array([2.496e-16, 8.885e-16, 6.294e-03, ..., 3.436e-12, 1.000e-04,\n",
       "       9.992e-01])"
      ]
     },
     "execution_count": 16,
     "metadata": {},
     "output_type": "execute_result"
    }
   ],
   "source": [
    "usol.flatten(order='F')"
   ]
  },
  {
   "cell_type": "code",
   "execution_count": 17,
   "metadata": {},
   "outputs": [
    {
     "data": {
      "text/plain": [
       "array([2.496e-16, 8.885e-16, 6.294e-03, 1.027e-11, 1.788e-15, 1.872e-17,\n",
       "       3.890e-17, 1.860e-04, 6.604e-08, 6.924e-13, 3.724e-16, 8.232e-16,\n",
       "       4.717e-03, 1.318e-11, 2.434e-15, 1.629e-17, 4.876e-17, 1.860e-04,\n",
       "       6.607e-08, 6.593e-13, 6.161e-16, 7.930e-16, 3.373e-03, 1.583e-11,\n",
       "       3.061e-15, 1.491e-17, 6.276e-17, 1.860e-04, 6.612e-08, 6.159e-13,\n",
       "       1.126e-15, 7.769e-16, 2.387e-03, 1.866e-11, 3.772e-15, 1.396e-17,\n",
       "       8.115e-17, 1.860e-04, 6.619e-08, 5.711e-13, 2.217e-15, 7.699e-16,\n",
       "       1.672e-03, 2.182e-11, 4.611e-15, 1.329e-17, 1.042e-16, 1.860e-04,\n",
       "       6.630e-08, 5.272e-13, 4.569e-15, 7.830e-16, 1.131e-03, 2.497e-11,\n",
       "       5.542e-15, 1.305e-17, 1.317e-16, 1.860e-04, 6.645e-08, 4.827e-13,\n",
       "       9.465e-15, 1.000e-04, 9.792e-01])"
      ]
     },
     "execution_count": 17,
     "metadata": {},
     "output_type": "execute_result"
    }
   ],
   "source": [
    "usol[:,0]"
   ]
  },
  {
   "cell_type": "code",
   "execution_count": 18,
   "metadata": {},
   "outputs": [],
   "source": [
    "lda = len(usol[:,0])*3+1\n",
    "t = 0.0\n",
    "jacob = photochem.jacobian(t,usol.flatten(order='F'),lda)"
   ]
  },
  {
   "cell_type": "code",
   "execution_count": 20,
   "metadata": {},
   "outputs": [
    {
     "data": {
      "text/plain": [
       "(190, 12600)"
      ]
     },
     "execution_count": 20,
     "metadata": {},
     "output_type": "execute_result"
    }
   ],
   "source": [
    "jacob.shape"
   ]
  },
  {
   "cell_type": "code",
   "execution_count": 12,
   "metadata": {},
   "outputs": [],
   "source": [
    "# here we will read in species\n",
    "fil = open('input/species.dat','r')\n",
    "lines = fil.readlines()\n",
    "for line in lines:\n",
    "    if line[0] == '*':\n",
    "#         print(line,end='')\n",
    "        pass"
   ]
  },
  {
   "cell_type": "code",
   "execution_count": null,
   "metadata": {},
   "outputs": [],
   "source": []
  },
  {
   "cell_type": "code",
   "execution_count": null,
   "metadata": {},
   "outputs": [],
   "source": []
  }
 ],
 "metadata": {
  "kernelspec": {
   "display_name": "Python 3",
   "language": "python",
   "name": "python3"
  },
  "language_info": {
   "codemirror_mode": {
    "name": "ipython",
    "version": 3
   },
   "file_extension": ".py",
   "mimetype": "text/x-python",
   "name": "python",
   "nbconvert_exporter": "python",
   "pygments_lexer": "ipython3",
   "version": "3.7.9"
  }
 },
 "nbformat": 4,
 "nbformat_minor": 4
}
