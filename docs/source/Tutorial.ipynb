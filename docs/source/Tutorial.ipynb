{
 "cells": [
  {
   "cell_type": "markdown",
   "metadata": {},
   "source": [
    "# Tutorial\n",
    "This is a really short tutorial showing you how PhotochemPy works. To download this notebook, view it on Github using the link in the top-right corner of the screen.\n",
    "\n",
    "First we will import the PhotochemPy module. "
   ]
  },
  {
   "cell_type": "code",
   "execution_count": 1,
   "metadata": {},
   "outputs": [],
   "source": [
    "# Do this one of the following ways!\n",
    "from PhotochemPy import PhotochemPy # If installed with pip use this!\n",
    "\n",
    "# If compiled in root directory with compile.sh, uncomment this\n",
    "# (and comment out the other import command)\n",
    "# import sys\n",
    "# sys.path.append(\"../..\")\n",
    "# from PhotochemPy import PhotochemPy"
   ]
  },
  {
   "cell_type": "markdown",
   "metadata": {},
   "source": [
    "I'll also import some other standard packages (e.g. numpy)."
   ]
  },
  {
   "cell_type": "code",
   "execution_count": 2,
   "metadata": {},
   "outputs": [],
   "source": [
    "import numpy as np\n",
    "from matplotlib import pyplot as plt"
   ]
  },
  {
   "cell_type": "markdown",
   "metadata": {},
   "source": [
    "## Setting up a problem\n",
    "PhotochemPy requires a few input files when it is initialized.\n",
    "\n",
    "- \"species.dat\": describes the species in the photochemical model, and their boundary conditions.\n",
    "\n",
    "- \"reactions.rx\": describes the reactions in the atmosphere and their rates\n",
    "\n",
    "- \"planet.dat\": describes the planet (surface gravity, etc.)\n",
    "\n",
    "- \"input_photochem.dat\": sets several different options for the model.\n",
    "\n",
    "- \"atmosphere.txt\": The initial atmospheric composition, temperature structure, eddy diffusion profile, and aersol parameters.\n",
    "\n",
    "- \"sun_flux.txt\": The stellar flux. You can use the [YoungSun](https://github.com/Nicholaswogan/YoungSun) Python package to generate a solar spectrum for Earth at any point in its 4.5 billion year old history.\n",
    "\n",
    "The best way to start is with one of the templates provided in the `input/templates` directory. Here, I'll use the `Archean+haze` template."
   ]
  },
  {
   "cell_type": "code",
   "execution_count": 3,
   "metadata": {},
   "outputs": [],
   "source": [
    "pc = PhotochemPy('../../input/templates/Archean+haze/species.dat', \\\n",
    "                 '../../input/templates/Archean+haze/reactions.rx', \\\n",
    "                 '../../input/templates/Archean+haze/planet.dat', \\\n",
    "                 '../../input/templates/Archean+haze/input_photchem.dat', \\\n",
    "                 '../../input/templates/Archean+haze/atmosphere.txt', \\\n",
    "                 '../../input/templates/Archean+haze/Sun_2.7Ga.txt')"
   ]
  },
  {
   "cell_type": "markdown",
   "metadata": {},
   "source": [
    "## Integrating to photochemical equilibrium\n",
    "The problem is now all set up! Now we can do a few different things. The thing that most people will want to do now in integrate the atmosphere forward in time to a state of photochemical equilibrium. We will do that with `pc.integrate()`"
   ]
  },
  {
   "cell_type": "code",
   "execution_count": 4,
   "metadata": {},
   "outputs": [
    {
     "data": {
      "text/plain": [
       "True"
      ]
     },
     "execution_count": 4,
     "metadata": {},
     "output_type": "execute_result"
    }
   ],
   "source": [
    "# here I set the number of steps the integrator will take\n",
    "pc.integrate(nsteps = 1000)"
   ]
  },
  {
   "cell_type": "markdown",
   "metadata": {},
   "source": [
    "Now we can output the solution. So for example, lets plot the CH$_4$ profile."
   ]
  },
  {
   "cell_type": "code",
   "execution_count": 5,
   "metadata": {},
   "outputs": [
    {
     "data": {
      "image/png": "[encoded data removed]",
      "text/plain": [
       "<Figure size 648x360 with 1 Axes>"
      ]
     },
     "metadata": {
      "needs_background": "light"
     },
     "output_type": "display_data"
    }
   ],
   "source": [
    "plt.rcParams.update({'font.size': 15})\n",
    "fig,ax = plt.subplots(1,1,figsize=[9,5])\n",
    "CH4 = pc.out_dict()['CH4'].copy()\n",
    "ax.plot(CH4,pc.out_dict()['alt'])\n",
    "ax.set_xscale('log')\n",
    "ax.set_ylabel('Altitude (km)')\n",
    "ax.set_xlabel('Methane mixing ratio')\n",
    "plt.show()"
   ]
  },
  {
   "cell_type": "markdown",
   "metadata": {},
   "source": [
    "We can also print the CH$_4$ surface flux required to sustain this atmospheric composition."
   ]
  },
  {
   "cell_type": "code",
   "execution_count": 6,
   "metadata": {},
   "outputs": [
    {
     "name": "stdout",
     "output_type": "stream",
     "text": [
      "CH4 surface flux = 6.07e+11 molecules/cm2/s\n"
     ]
    }
   ],
   "source": [
    "print('CH4 surface flux =','%.2e'%pc.surf_flux()['CH4'],'molecules/cm2/s')"
   ]
  },
  {
   "cell_type": "markdown",
   "metadata": {},
   "source": [
    "Currently, the boundary condition for CH$_4$ are set as a fixed mixing ratio. For this boundary condition, the model calculates the surface fluxed required to maintain the given mixing ratio. We can print the current mixing ratio of CH$_4$"
   ]
  },
  {
   "cell_type": "code",
   "execution_count": 7,
   "metadata": {},
   "outputs": [
    {
     "name": "stdout",
     "output_type": "stream",
     "text": [
      "3.50e-03\n"
     ]
    }
   ],
   "source": [
    "ind = pc.ispec.index('CH4') # index of CH4 in the model\n",
    "print('%.2e'%pc.photo.fixedmr[ind])\n",
    "\n",
    "# quick note: `pc.photo` is a direct contact with all the data stored\n",
    "# in the compile fortran module. There is a lot of stuff in there...\n",
    "# to see all the things you can access run this command\n",
    "# dir(pc.photo)"
   ]
  },
  {
   "cell_type": "markdown",
   "metadata": {},
   "source": [
    "Let's chance the mixing ratio to 1.0e-6, then re-integrate the equilibrium."
   ]
  },
  {
   "cell_type": "code",
   "execution_count": 8,
   "metadata": {},
   "outputs": [
    {
     "data": {
      "text/plain": [
       "True"
      ]
     },
     "execution_count": 8,
     "metadata": {},
     "output_type": "execute_result"
    }
   ],
   "source": [
    "pc.set_mr('CH4',1.0e-6)\n",
    "pc.integrate()"
   ]
  },
  {
   "cell_type": "markdown",
   "metadata": {},
   "source": [
    "Now lets print out the new Methane flux, and compare the atmospheric methane profile to what it was before when the mixing ratio was set to 3.5e-3."
   ]
  },
  {
   "cell_type": "code",
   "execution_count": 9,
   "metadata": {},
   "outputs": [
    {
     "name": "stdout",
     "output_type": "stream",
     "text": [
      "CH4 surface flux = 1.01e+09 molecules/cm2/s\n"
     ]
    },
    {
     "data": {
      "image/png": "[encoded data removed]",
      "text/plain": [
       "<Figure size 648x360 with 1 Axes>"
      ]
     },
     "metadata": {
      "needs_background": "light"
     },
     "output_type": "display_data"
    }
   ],
   "source": [
    "# print the surface flux\n",
    "print('CH4 surface flux =','%.2e'%pc.surf_flux()['CH4'],'molecules/cm2/s')\n",
    "\n",
    "# Plot\n",
    "plt.rcParams.update({'font.size': 15})\n",
    "fig,ax = plt.subplots(1,1,figsize=[9,5])\n",
    "CH4_new = pc.out_dict()['CH4']\n",
    "ax.plot(CH4,pc.out_dict()['alt'],label='surface mr = 3.5e-3')\n",
    "ax.plot(CH4_new,pc.out_dict()['alt'],label='surface mr = 1.0e-6')\n",
    "ax.set_xscale('log')\n",
    "ax.set_ylabel('Altitude (km)')\n",
    "ax.set_xlabel('Methane mixing ratio')\n",
    "ax.legend()\n",
    "plt.show()"
   ]
  },
  {
   "cell_type": "markdown",
   "metadata": {},
   "source": [
    "It took a while to integrate to equilibrium after setting the CH$_4$ mixing ratio to 1e-6. This is because our initial conditions (the initial atmosphere in atmosphere.txt) are pretty \"far away\" from the solution. The following command (`pc.out2in()`) changes our initial conditions to the output the the past integration. This will allow much quicker convergence to the equilibrium state."
   ]
  },
  {
   "cell_type": "code",
   "execution_count": 10,
   "metadata": {},
   "outputs": [
    {
     "name": "stdout",
     "output_type": "stream",
     "text": [
      "70.81 seconds\n",
      "2.83 seconds\n"
     ]
    }
   ],
   "source": [
    "import time\n",
    "\n",
    "start = time.time()\n",
    "pc.integrate()\n",
    "end = time.time()\n",
    "print('%.2f'%(end-start),'seconds')\n",
    "\n",
    "pc.out2in() # output to input!\n",
    "\n",
    "start = time.time()\n",
    "pc.integrate()\n",
    "end = time.time()\n",
    "print('%.2f'%(end-start),'seconds')"
   ]
  },
  {
   "cell_type": "markdown",
   "metadata": {},
   "source": [
    "## Calculating many surface mixing ratios vs. surface fluxes\n",
    "Often people want to know how much gas flux at the surface of a planet is required to sustain a particular molecule. Methane or Oxyen, for example, have large surface fluxes on the modern Earth due to life. This bit of code will calculate this relationship for one particular atmosphere."
   ]
  },
  {
   "cell_type": "code",
   "execution_count": 11,
   "metadata": {},
   "outputs": [],
   "source": [
    "CH4_mr = np.logspace(-6,-3,10)\n",
    "CH4_flux = []\n",
    "\n",
    "for mr in CH4_mr:\n",
    "    pc.set_mr('CH4',mr)\n",
    "    pc.integrate()\n",
    "    pc.out2in() # really important to do this. It will speed up the computation\n",
    "    CH4_flux.append(pc.surf_flux()['CH4'])\n",
    "    "
   ]
  },
  {
   "cell_type": "code",
   "execution_count": 12,
   "metadata": {},
   "outputs": [
    {
     "data": {
      "image/png": "[encoded data removed]",
      "text/plain": [
       "<Figure size 648x360 with 1 Axes>"
      ]
     },
     "metadata": {
      "needs_background": "light"
     },
     "output_type": "display_data"
    }
   ],
   "source": [
    "# Plot\n",
    "fig,ax = plt.subplots(1,1,figsize=[9,5])\n",
    "\n",
    "ax.plot(CH4_mr,CH4_flux)\n",
    "ax.set_xscale('log')\n",
    "ax.set_yscale('log')\n",
    "ax.set_ylabel('Methane surface flux\\n(molecules/cm$^2$/s)')\n",
    "ax.set_xlabel('Methane surface mixing ratio')\n",
    "\n",
    "plt.show()"
   ]
  },
  {
   "cell_type": "markdown",
   "metadata": {},
   "source": [
    "## Returning the right-hand-side of the model equations\n",
    "The photochemical model works by integrating a large system of ordinary differential equations (ODE). Each ODE has the form\n",
    "\n",
    "$$\\frac{df_i^j}{dt} = F(f_i^j)$$\n",
    "\n",
    "Here, $f$ is the mixing ratio of species $i$ at layer $j$ in the atmosphere. $F(f_i^j)$ is the production or loss of that species from chemical reactions, diffusion in the atmosphere, escape to space, or a surface flux (volcano, or biology).\n",
    "\n",
    "The Achean haze template has 61 species and 200 vertical layers. This means there are $61\\times200 = 12200$ equations! Kinda a lot.\n",
    "\n",
    "Here I'll show you how to return the value of all of these ODEs."
   ]
  },
  {
   "cell_type": "code",
   "execution_count": 13,
   "metadata": {},
   "outputs": [
    {
     "name": "stdout",
     "output_type": "stream",
     "text": [
      "1.63e-09\n"
     ]
    }
   ],
   "source": [
    "pc.reset() # resets everything by reading in original files (e.g. atmosphere.txt)\n",
    "rhs = pc.right_hand_side(pc.photo.usol_init.flatten('F'))\n",
    "# here I'll print the maximum value of the right-hand-side\n",
    "print('%.2e'%np.max(np.abs(rhs)))\n",
    "# The units of this are [change in mixing ratio/second]"
   ]
  },
  {
   "cell_type": "markdown",
   "metadata": {},
   "source": [
    "If we integrate to equilbirium, the maximum value of the right-hand side will be very small because the equations are in equilibrium."
   ]
  },
  {
   "cell_type": "code",
   "execution_count": 14,
   "metadata": {},
   "outputs": [
    {
     "name": "stdout",
     "output_type": "stream",
     "text": [
      "1.87e-17\n"
     ]
    }
   ],
   "source": [
    "pc.integrate()\n",
    "pc.out2in()\n",
    "rhs = pc.right_hand_side(pc.photo.usol_init.flatten('F'))\n",
    "print('%.2e'%np.max(np.abs(rhs)))"
   ]
  },
  {
   "cell_type": "markdown",
   "metadata": {},
   "source": [
    "I can also return the jacobian of the right hand side. Its a banded matrix (zero everywhere but a band of some width along the diagonal). And so this function only prints the non-zero band."
   ]
  },
  {
   "cell_type": "code",
   "execution_count": 15,
   "metadata": {},
   "outputs": [
    {
     "name": "stdout",
     "output_type": "stream",
     "text": [
      "(123, 12200)\n"
     ]
    }
   ],
   "source": [
    "jac = pc.jacobian(pc.photo.usol_init.flatten('F'))\n",
    "print(jac.shape) # a big matrix!"
   ]
  }
 ],
 "metadata": {
  "kernelspec": {
   "display_name": "Python 3",
   "language": "python",
   "name": "python3"
  },
  "language_info": {
   "codemirror_mode": {
    "name": "ipython",
    "version": 3
   },
   "file_extension": ".py",
   "mimetype": "text/x-python",
   "name": "python",
   "nbconvert_exporter": "python",
   "pygments_lexer": "ipython3",
   "version": "3.7.9"
  }
 },
 "nbformat": 4,
 "nbformat_minor": 4
}
