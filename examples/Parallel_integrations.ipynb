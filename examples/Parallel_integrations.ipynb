{
 "cells": [
  {
   "cell_type": "markdown",
   "metadata": {},
   "source": [
    "# Parallelizing whole PhotochemPy runs\n",
    "\n",
    "PhotochemPy is a multithreaded program. When integrating to photochemical equilibium (i.e. `pc.integrate()` function), during each timestep, calculations are distributed to all the processors on your computer. This speeds up any single integration.\n",
    "\n",
    "But often times, people might be interested in running many photochemical integrations, each with different inputs or boundary conditions. For example, you might be interested in the surface methane flux required to sustain several different surface methane mixing ratios. In a scenario like this, it might be most useful/quick to do each integration in parallel, instead of doings sequential runs that are each multithreaded.\n",
    "\n",
    "This tutorial shows how to do parallel photochemical integrations using the `multiprocessing` Python module.\n",
    "\n",
    "**First**, you should close this notebook, and in the same terminal run `export OMP_NUM_THREADS=1`. Then re-open this notebook using the same terminal. This turns off multithreading in PhotochemPy, which will speed up whole parallel runs. \n",
    "\n",
    "Next, import some modules:"
   ]
  },
  {
   "cell_type": "code",
   "execution_count": 1,
   "metadata": {},
   "outputs": [],
   "source": [
    "from PhotochemPy import PhotochemPy # Import PhotochemPy\n",
    "from pathos.multiprocessing import ProcessingPool as Pool\n",
    "from matplotlib import pyplot as plt\n",
    "import numpy as np"
   ]
  },
  {
   "cell_type": "markdown",
   "metadata": {},
   "source": [
    "Next, lets load input files to initialize a PhotochemPy object. Here I use the Archean+Haze template."
   ]
  },
  {
   "cell_type": "code",
   "execution_count": 2,
   "metadata": {},
   "outputs": [],
   "source": [
    "pc = PhotochemPy('../input/templates/Archean+haze/species.dat', \\\n",
    "                 '../input/templates/Archean+haze/reactions.rx', \\\n",
    "                 '../input/templates/Archean+haze/settings.yaml', \\\n",
    "                 '../input/templates/Archean+haze/atmosphere.txt', \\\n",
    "                 '../input/templates/Archean+haze/Sun_2.7Ga.txt')"
   ]
  },
  {
   "cell_type": "markdown",
   "metadata": {},
   "source": [
    "Now, we need to write a python function which we want to execute in parallel. \n",
    "\n",
    "The function below, `wrapper`, takes in `fCH4`. It then changes the surface mixing ratio (`pc.set_mr('CH4',fCH4)`), then integrates to photochemical equilibrium (`pc.integrate()`). Finally, if the model converged, the functon outputs the Methane surface flux required to maintain the mixing ratio `fCH4`. IF the model doesn't converge, then the function outputs a `NaN`."
   ]
  },
  {
   "cell_type": "code",
   "execution_count": 8,
   "metadata": {},
   "outputs": [],
   "source": [
    "def wrapper(fCH4):\n",
    "    pc.set_mr('CH4',fCH4)\n",
    "    converged = pc.integrate(method=\"Backward_Euler\",nsteps = 1500)\n",
    "    if not converged:\n",
    "        return np.nan\n",
    "    return pc.surf_flux()['CH4']"
   ]
  },
  {
   "cell_type": "markdown",
   "metadata": {},
   "source": [
    "Now we are set to do many parallel integrations:"
   ]
  },
  {
   "cell_type": "code",
   "execution_count": 9,
   "metadata": {},
   "outputs": [],
   "source": [
    "fCH4 = np.logspace(-9,-2,10)\n",
    "\n",
    "num_processes = 6 # my computer has 6 cores. So I use 6 processes\n",
    "\n",
    "with Pool(num_processes) as p:\n",
    "    PhiCH4 = p.map(wrapper, fCH4)"
   ]
  },
  {
   "cell_type": "markdown",
   "metadata": {},
   "source": [
    "`multiprocessing.Pool` generates a specified number of completely independent processes. For more details about multiprocessing, see [this link](https://sebastianraschka.com/Articles/2014_multiprocessing.html#multi-threading-vs-multi-processing).\n",
    "\n",
    "Lets look at the results:"
   ]
  },
  {
   "cell_type": "code",
   "execution_count": 10,
   "metadata": {},
   "outputs": [
    {
     "name": "stdout",
     "output_type": "stream",
     "text": [
      "CH4 surface mixing ratio | CH4 surf flux (molecules/cm2/s)\n",
      "----------------------------------------------------------\n",
      "1.00e-09                 | -2.19e+05\n",
      "5.99e-09                 | 1.45e+06\n",
      "3.59e-08                 | 1.15e+07\n",
      "2.15e-07                 | 7.16e+07\n",
      "1.29e-06                 | 4.31e+08\n",
      "7.74e-06                 | 2.57e+09\n",
      "4.64e-05                 | 1.51e+10\n",
      "2.78e-04                 | 8.34e+10\n",
      "1.67e-03                 | 4.11e+11\n",
      "1.00e-02                 | nan\n"
     ]
    }
   ],
   "source": [
    "col1 = 'CH4 surface mixing ratio'\n",
    "col2 = 'CH4 surf flux (molecules/cm2/s)'\n",
    "print(col1,'|',col2)\n",
    "print('----------------------------------------------------------')\n",
    "for i in range(len(PhiCH4)):\n",
    "    print(\"{:<24}\".format('%.2e'%fCH4[i]),'|','%.2e'%PhiCH4[i])"
   ]
  },
  {
   "cell_type": "markdown",
   "metadata": {},
   "source": [
    "To sustain the smallest methane mixing ratio (1.e-9), the methane surface flux has to be negative - There must be a flux of methane **into** the Earth (positive is up) sequestering CH4 generated by photochemical processes.\n",
    "\n",
    "Most of the surface fluxes are positive - A flux of methane from the surface into the atmosphere is required to maintain the given concentration\n",
    "\n",
    "The largest mixing ratios returned `nan` values - The photochemical model didn't converge in 2000 steps, in these cases. A `nan` means one of a few things\n",
    "1. There is no Photochemical steady state atmosphere with the choosen surface methane mixing ratio.\n",
    "2. The numerical algorithm for finding steadys states in PhotochemPy is flawed, and was unable to find the steady state.\n",
    "3. The number of timesteps taken was too small. In a few more steps, the model could have found equilibrium\n",
    "\n",
    "It is often hard to determine which of these reasons is the cause for a failed integration.\n",
    "\n",
    "Now let's plot:"
   ]
  },
  {
   "cell_type": "code",
   "execution_count": 12,
   "metadata": {},
   "outputs": [
    {
     "data": {
      "image/png": "[encoded data removed]",
      "text/plain": [
       "<Figure size 648x360 with 1 Axes>"
      ]
     },
     "metadata": {
      "needs_background": "light"
     },
     "output_type": "display_data"
    }
   ],
   "source": [
    "plt.rcParams.update({'font.size': 15})\n",
    "fig,ax = plt.subplots(1,1,figsize=[9,5])\n",
    "\n",
    "ax.plot(fCH4,PhiCH4,'o-')\n",
    "ax.set_xscale('log')\n",
    "ax.set_yscale('log')\n",
    "ax.set_ylabel('Methane surface flux\\n(molecules/cm$^2$/s)')\n",
    "ax.set_xlabel('Methane mixing ratio')\n",
    "\n",
    "bio = 1.1e11 # molecules/cm2/s\n",
    "ax.axhline(y=bio,c=\"k\",ls='--',zorder=0)\n",
    "ax.text(1e-9,bio+.5*bio,'Modern Earth Biological CH4 flux')\n",
    "\n",
    "\n",
    "plt.show()"
   ]
  },
  {
   "cell_type": "markdown",
   "metadata": {},
   "source": [
    "I have also plotted the Modern Earth biological CH4 flux.\n",
    "\n",
    "If biology produced about the same amount of methane in the Archean Eon, as it does in the present day, then the methane concentration might have been about ~100 ppm (1e-4)."
   ]
  }
 ],
 "metadata": {
  "kernelspec": {
   "display_name": "Python 3",
   "language": "python",
   "name": "python3"
  },
  "language_info": {
   "codemirror_mode": {
    "name": "ipython",
    "version": 3
   },
   "file_extension": ".py",
   "mimetype": "text/x-python",
   "name": "python",
   "nbconvert_exporter": "python",
   "pygments_lexer": "ipython3",
   "version": "3.8.5"
  }
 },
 "nbformat": 4,
 "nbformat_minor": 4
}
