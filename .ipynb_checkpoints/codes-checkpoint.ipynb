{
 "cells": [
  {
   "cell_type": "code",
   "execution_count": 1,
   "metadata": {},
   "outputs": [],
   "source": [
    "import PhotochemPy as photo\n",
    "pt = photo.PhotochemPy('input/species.dat','input/reactions.rx')"
   ]
  },
  {
   "cell_type": "code",
   "execution_count": null,
   "metadata": {},
   "outputs": [],
   "source": []
  },
  {
   "cell_type": "code",
   "execution_count": 1,
   "metadata": {},
   "outputs": [],
   "source": [
    "import numpy as np\n",
    "from Photochem import photochem\n",
    "import time"
   ]
  },
  {
   "cell_type": "code",
   "execution_count": null,
   "metadata": {},
   "outputs": [],
   "source": []
  },
  {
   "cell_type": "code",
   "execution_count": null,
   "metadata": {},
   "outputs": [],
   "source": [
    "# first thing to do is allocate memory\n",
    "nw = 118\n",
    "nz = 200\n",
    "nq = 63\n",
    "nnp = 4\n",
    "nsp = 74\n",
    "nr = 392\n",
    "ks = 33\n",
    "kj = 60\n",
    "photochem.allocate_memory(nw,nz,nq,nnp,nsp,nr,ks,kj)\n",
    "# now read input files\n",
    "photochem.read_species('input/species.dat')\n",
    "photochem.read_reactions('input/reactions.rx')"
   ]
  },
  {
   "cell_type": "code",
   "execution_count": 5,
   "metadata": {},
   "outputs": [],
   "source": [
    "for i in range(1000):\n",
    "    photochem.read_species('input/species.dat')\n",
    "    photochem.read_reactions('input/reactions.rx')"
   ]
  },
  {
   "cell_type": "code",
   "execution_count": 6,
   "metadata": {},
   "outputs": [],
   "source": [
    "photochem.read_reactions('input/reactions.rx')"
   ]
  },
  {
   "cell_type": "code",
   "execution_count": 13,
   "metadata": {},
   "outputs": [
    {
     "data": {
      "text/plain": [
       "array(60, dtype=int32)"
      ]
     },
     "execution_count": 13,
     "metadata": {},
     "output_type": "execute_result"
    }
   ],
   "source": [
    "photochem.kj"
   ]
  },
  {
   "cell_type": "code",
   "execution_count": null,
   "metadata": {},
   "outputs": [],
   "source": [
    "\n",
    "    "
   ]
  },
  {
   "cell_type": "code",
   "execution_count": null,
   "metadata": {},
   "outputs": [],
   "source": []
  },
  {
   "cell_type": "code",
   "execution_count": null,
   "metadata": {},
   "outputs": [],
   "source": []
  },
  {
   "cell_type": "code",
   "execution_count": null,
   "metadata": {},
   "outputs": [],
   "source": []
  },
  {
   "cell_type": "code",
   "execution_count": null,
   "metadata": {},
   "outputs": [],
   "source": []
  },
  {
   "cell_type": "code",
   "execution_count": 5,
   "metadata": {},
   "outputs": [],
   "source": [
    "lower_wv = 121 # lower bound of consideration (nm)\n",
    "upper_wv = 800 # upper bound\n",
    "\n",
    "def photgrid(star_file):\n",
    "    wv,I = np.loadtxt(star_file).T\n",
    "    bins = np.linspace(lower_wv,upper_wv,nw+1)\n",
    "    # calculate photons/cm2/s for each bin\n",
    "    F = np.zeros(nw)\n",
    "    for j in range(len(bins)-1):\n",
    "        ind = np.where((wv>bins[j]) & (wv<bins[j+1]))[0]\n",
    "        c = 3e8 #m/s2\n",
    "        h = 6.62607004e-34 #Planks constant in SI units\n",
    "        FF = 0\n",
    "        for i in ind:\n",
    "            E = h*c/(wv[i]*1e-9) # joules/photon\n",
    "            FF += I[i]*(wv[i+1]-wv[i])/1e7/E #photons/(cm2 s)\n",
    "        F[j] = FF\n",
    "    return F"
   ]
  },
  {
   "cell_type": "code",
   "execution_count": 6,
   "metadata": {},
   "outputs": [],
   "source": [
    "Flux = photgrid('input/sun_flux.txt')"
   ]
  },
  {
   "cell_type": "code",
   "execution_count": 7,
   "metadata": {},
   "outputs": [],
   "source": [
    "photochem.flux = Flux"
   ]
  },
  {
   "cell_type": "code",
   "execution_count": null,
   "metadata": {},
   "outputs": [],
   "source": []
  },
  {
   "cell_type": "code",
   "execution_count": null,
   "metadata": {},
   "outputs": [],
   "source": []
  },
  {
   "cell_type": "code",
   "execution_count": 13,
   "metadata": {},
   "outputs": [],
   "source": [
    "def profile2dic(filename):\n",
    "    file = open(filename,'r')\n",
    "    lines = file.readlines()\n",
    "    key = lines[0].split()\n",
    "    #build dictionary of output\n",
    "    out = []\n",
    "    for i in range(1,len(lines)):\n",
    "        tmp = []\n",
    "        for j in lines[i].split():\n",
    "            try:\n",
    "                tmp.append(float(j))\n",
    "            except ValueError:\n",
    "                tmp.append(0)\n",
    "        out.append(tmp)\n",
    "    out = np.array(out)\n",
    "\n",
    "    f_out = {}\n",
    "    for i in range(0,len(key)):\n",
    "        f_out[key[i]]=out[:,i]\n",
    "    file.close()\n",
    "\n",
    "    return f_out"
   ]
  },
  {
   "cell_type": "code",
   "execution_count": 14,
   "metadata": {},
   "outputs": [],
   "source": [
    "# loads atmosphere\n",
    "f = profile2dic('atmosphere.txt')\n",
    "usol = np.zeros([63,200])\n",
    "k= 0\n",
    "for i,key in enumerate(f.keys()):\n",
    "    if i>3:\n",
    "        usol[k] = f[key]\n",
    "        k+=1"
   ]
  },
  {
   "cell_type": "code",
   "execution_count": 15,
   "metadata": {},
   "outputs": [],
   "source": []
  },
  {
   "cell_type": "code",
   "execution_count": 16,
   "metadata": {},
   "outputs": [
    {
     "data": {
      "text/plain": [
       "array([2.496e-16, 8.885e-16, 6.294e-03, ..., 3.436e-12, 1.000e-04,\n",
       "       9.992e-01])"
      ]
     },
     "execution_count": 16,
     "metadata": {},
     "output_type": "execute_result"
    }
   ],
   "source": [
    "usol.flatten(order='F')"
   ]
  },
  {
   "cell_type": "code",
   "execution_count": 17,
   "metadata": {},
   "outputs": [
    {
     "data": {
      "text/plain": [
       "array([2.496e-16, 8.885e-16, 6.294e-03, 1.027e-11, 1.788e-15, 1.872e-17,\n",
       "       3.890e-17, 1.860e-04, 6.604e-08, 6.924e-13, 3.724e-16, 8.232e-16,\n",
       "       4.717e-03, 1.318e-11, 2.434e-15, 1.629e-17, 4.876e-17, 1.860e-04,\n",
       "       6.607e-08, 6.593e-13, 6.161e-16, 7.930e-16, 3.373e-03, 1.583e-11,\n",
       "       3.061e-15, 1.491e-17, 6.276e-17, 1.860e-04, 6.612e-08, 6.159e-13,\n",
       "       1.126e-15, 7.769e-16, 2.387e-03, 1.866e-11, 3.772e-15, 1.396e-17,\n",
       "       8.115e-17, 1.860e-04, 6.619e-08, 5.711e-13, 2.217e-15, 7.699e-16,\n",
       "       1.672e-03, 2.182e-11, 4.611e-15, 1.329e-17, 1.042e-16, 1.860e-04,\n",
       "       6.630e-08, 5.272e-13, 4.569e-15, 7.830e-16, 1.131e-03, 2.497e-11,\n",
       "       5.542e-15, 1.305e-17, 1.317e-16, 1.860e-04, 6.645e-08, 4.827e-13,\n",
       "       9.465e-15, 1.000e-04, 9.792e-01])"
      ]
     },
     "execution_count": 17,
     "metadata": {},
     "output_type": "execute_result"
    }
   ],
   "source": [
    "usol[:,0]"
   ]
  },
  {
   "cell_type": "code",
   "execution_count": 18,
   "metadata": {},
   "outputs": [],
   "source": [
    "lda = len(usol[:,0])*3+1\n",
    "t = 0.0\n",
    "jacob = photochem.jacobian(t,usol.flatten(order='F'),lda)"
   ]
  },
  {
   "cell_type": "code",
   "execution_count": 20,
   "metadata": {},
   "outputs": [
    {
     "data": {
      "text/plain": [
       "(190, 12600)"
      ]
     },
     "execution_count": 20,
     "metadata": {},
     "output_type": "execute_result"
    }
   ],
   "source": [
    "jacob.shape"
   ]
  },
  {
   "cell_type": "code",
   "execution_count": 12,
   "metadata": {},
   "outputs": [],
   "source": [
    "# here we will read in species\n",
    "fil = open('input/species.dat','r')\n",
    "lines = fil.readlines()\n",
    "for line in lines:\n",
    "    if line[0] == '*':\n",
    "#         print(line,end='')\n",
    "        pass"
   ]
  },
  {
   "cell_type": "code",
   "execution_count": null,
   "metadata": {},
   "outputs": [],
   "source": []
  },
  {
   "cell_type": "code",
   "execution_count": null,
   "metadata": {},
   "outputs": [],
   "source": []
  }
 ],
 "metadata": {
  "kernelspec": {
   "display_name": "Python 3",
   "language": "python",
   "name": "python3"
  },
  "language_info": {
   "codemirror_mode": {
    "name": "ipython",
    "version": 3
   },
   "file_extension": ".py",
   "mimetype": "text/x-python",
   "name": "python",
   "nbconvert_exporter": "python",
   "pygments_lexer": "ipython3",
   "version": "3.7.3"
  }
 },
 "nbformat": 4,
 "nbformat_minor": 4
}
